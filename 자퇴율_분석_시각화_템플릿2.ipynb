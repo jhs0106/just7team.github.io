{
  "cells": [
    {
      "cell_type": "markdown",
      "metadata": {
        "id": "view-in-github",
        "colab_type": "text"
      },
      "source": [
        "<a href=\"https://colab.research.google.com/github/jhs0106/just7team.github.io/blob/analysis-visualization/%EC%9E%90%ED%87%B4%EC%9C%A8_%EB%B6%84%EC%84%9D_%EC%8B%9C%EA%B0%81%ED%99%94_%ED%85%9C%ED%94%8C%EB%A6%BF2.ipynb\" target=\"_parent\"><img src=\"https://colab.research.google.com/assets/colab-badge.svg\" alt=\"Open In Colab\"/></a>"
      ]
    },
    {
      "cell_type": "code",
      "execution_count": null,
      "metadata": {
        "id": "2KG87FkWnnlL"
      },
      "outputs": [],
      "source": [
        "#라이브러리 불러오기\n",
        "import numpy as np\n",
        "import pandas as pd\n",
        "import matplotlib.pyplot as plt\n",
        "import seaborn as sns\n",
        "from sklearn.metrics import r2_score, mean_squared_error #평가지표 R^2, RMSE\n",
        "sns.set()"
      ]
    },
    {
      "cell_type": "code",
      "execution_count": null,
      "metadata": {
        "id": "PfyiGeilnnlL"
      },
      "outputs": [],
      "source": [
        "# 예측 vs 실제 시각화 함수\n",
        "def plot_prediction_scatter(y_true, y_pred):\n",
        "    r2 = r2_score(y_true, y_pred)\n",
        "    rmse = mean_squared_error(y_true, y_pred, squared=False)\n",
        "\n",
        "    plt.figure(figsize=(6, 6))\n",
        "    sns.scatterplot(x=y_true, y=y_pred)\n",
        "    plt.plot([min(y_true), max(y_true)], [min(y_true), max(y_true)], 'r--', label='Ideal Fit')\n",
        "    plt.title(f\"예측 vs 실제 (R²={r2:.2f}, RMSE={rmse:.2f})\")\n",
        "    plt.xlabel(\"실제 자퇴율\")\n",
        "    plt.ylabel(\"예측 자퇴율\")\n",
        "    plt.legend()\n",
        "    plt.tight_layout()\n",
        "    plt.show()"
      ]
    },
    {
      "cell_type": "code",
      "execution_count": null,
      "metadata": {
        "id": "RkuTT3bPnnlL"
      },
      "outputs": [],
      "source": [
        "# 실제값-예측값 시각화 함수\n",
        "def plot_residuals(y_true, y_pred):\n",
        "    residuals = y_true - y_pred\n",
        "    plt.figure(figsize=(6, 4))\n",
        "    sns.histplot(residuals, kde=True)\n",
        "    plt.axvline(0, color='r', linestyle='--')\n",
        "    plt.title(\"실제값-예측값 분포\")\n",
        "    plt.xlabel(\"(실제 - 예측)\")\n",
        "    plt.tight_layout()\n",
        "    plt.show()"
      ]
    },
    {
      "cell_type": "code",
      "execution_count": null,
      "metadata": {
        "id": "xFA4UVU2nnlM"
      },
      "outputs": [],
      "source": [
        "# 변수 중요도 시각화 함수\n",
        "def plot_feature_importance(feature_names, importances):\n",
        "    df = pd.DataFrame({'변수': feature_names, '중요도': importances})\n",
        "    df = df.sort_values(by='중요도', ascending=False)\n",
        "    plt.figure(figsize=(6, 4))\n",
        "    sns.barplot(x='중요도', y='변수', data=df)\n",
        "    plt.title(\"변수 중요도\")\n",
        "    plt.tight_layout()\n",
        "    plt.show()"
      ]
    }
  ],
  "metadata": {
    "kernelspec": {
      "display_name": "Python 3",
      "language": "python",
      "name": "python3"
    },
    "language_info": {
      "name": "python"
    },
    "colab": {
      "provenance": [],
      "include_colab_link": true
    }
  },
  "nbformat": 4,
  "nbformat_minor": 0
}