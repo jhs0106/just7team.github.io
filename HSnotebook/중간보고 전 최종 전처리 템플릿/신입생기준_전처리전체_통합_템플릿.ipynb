{
 "cells": [
  {
   "cell_type": "code",
   "execution_count": null,
   "id": "b1210a64",
   "metadata": {},
   "outputs": [],
   "source": [
    "\n",
    "# 중도탈락학생(신입생)비율(%) 데이터 전처리 템플릿\n",
    "\n",
    "import pandas as pd\n",
    "\n",
    "# 📂 파일 경로 설정\n",
    "file_path = \"파일명을 여기에 입력하세요.xlsx\"\n",
    "\n",
    "# ✅ 데이터 로딩 (앞쪽 헤더 4줄은 무시)\n",
    "df = pd.read_excel(file_path, skiprows=4)\n",
    "\n",
    "# ✅ 연도 및 학교명, 중도탈락(신입생)비율 추출\n",
    "df_filtered = pd.DataFrame({\n",
    "    \"기준연도\": df[\"Unnamed: 0\"].fillna(method='ffill'),\n",
    "    \"학교명\": df[\"Unnamed: 5\"],\n",
    "    \"중도탈락학생(신입생)비율(%)\": df[\"Unnamed: 27\"]\n",
    "})\n",
    "\n",
    "# ✅ 결측치 제거\n",
    "df_filtered.dropna(subset=[\"기준연도\", \"학교명\", \"중도탈락학생(신입생)비율(%)\"], inplace=True)\n",
    "\n",
    "# ✅ 연도 정수형 변환\n",
    "df_filtered[\"기준연도\"] = df_filtered[\"기준연도\"].astype(int)\n",
    "\n",
    "# ✅ 저장\n",
    "df_filtered.to_csv(\"중도탈락학생_신입생비율_출력파일.csv\", index=False, encoding=\"utf-8-sig\")\n",
    "\n",
    "# ✅ 결과 확인\n",
    "df_filtered.head()\n"
   ]
  }
 ],
 "metadata": {},
 "nbformat": 4,
 "nbformat_minor": 5
}
