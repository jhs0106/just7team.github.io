{
 "cells": [
  {
   "cell_type": "markdown",
   "id": "6cc0f559",
   "metadata": {},
   "source": [
    "결측치 제거 + 공통 학교 필터링 템플릿\n",
    "이상치 제거 없이 결측치만 제거하고, 모든 연도에 공통으로 존재하는 학교만 필터링"
   ]
  },
  {
   "cell_type": "code",
   "execution_count": null,
   "id": "92b599ec",
   "metadata": {},
   "outputs": [],
   "source": [
    "import pandas as pd\n",
    "\n",
    "# 파일 업로드\n",
    "from google.colab import files\n",
    "uploaded = files.upload()\n",
    "\n",
    "# 데이터 읽기\n",
    "file_name = list(uploaded.keys())[0]\n",
    "df = pd.read_csv(file_name)\n",
    "df.head()\n"
   ]
  },
  {
   "cell_type": "code",
   "execution_count": null,
   "id": "53fa2f02",
   "metadata": {},
   "outputs": [],
   "source": [
    "# 사용할 피처 목록 정의\n",
    "feature_cols = [\n",
    "    '중도탈락율', '기숙사 수용률', '전임교원 1인당 학생수(정원기준)', '전임교원 1인당 학생수(재학생기준)',\n",
    "    '졸업자 수', '진학률', '정원내 신입생 충원율(%)', '기숙사 경쟁률', '가중 평균 재학생 충원율(%)',\n",
    "    '총 강좌 수', '소규모 강좌 비율', '평균 강좌 규모 점수', '1인당장학금', '취업률'\n",
    "]\n",
    "\n",
    "# 결측치 제거\n",
    "df_valid = df.dropna(subset=feature_cols)\n",
    "print(\"결측치 제거 후 행 수:\", len(df_valid))\n"
   ]
  },
  {
   "cell_type": "code",
   "execution_count": null,
   "id": "fc6961fe",
   "metadata": {},
   "outputs": [],
   "source": [
    "# 모든 연도에 공통으로 존재하는 학교 추출\n",
    "schools_per_year = df_valid.groupby(\"기준년도\")[\"학교명\"].apply(set)\n",
    "common_schools = set.intersection(*schools_per_year)\n",
    "\n",
    "# 공통 학교만 필터링\n",
    "df_common = df_valid[df_valid[\"학교명\"].isin(common_schools)]\n",
    "print(\"공통 학교 수:\", len(common_schools))\n",
    "df_common.head()\n"
   ]
  },
  {
   "cell_type": "code",
   "execution_count": null,
   "id": "ad9bb838",
   "metadata": {},
   "outputs": [],
   "source": [
    "# 결과 저장 (UTF-8 with BOM 인코딩으로 Excel 호환)\n",
    "df_common.to_csv(\"결측치제거_공통학교만_통합데이터_UTF8BOM.csv\", index=False, encoding=\"utf-8-sig\")\n",
    "files.download(\"결측치제거_공통학교만_통합데이터_UTF8BOM.csv\")\n"
   ]
  }
 ],
 "metadata": {
  "language_info": {
   "name": "python"
  }
 },
 "nbformat": 4,
 "nbformat_minor": 5
}
