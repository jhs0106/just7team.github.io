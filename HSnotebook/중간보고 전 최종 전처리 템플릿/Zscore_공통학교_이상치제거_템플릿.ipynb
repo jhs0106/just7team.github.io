{
 "cells": [
  {
   "cell_type": "markdown",
   "id": "3f04d331",
   "metadata": {},
   "source": [
    "#Z-score + 공통 학교 필터링 템플릿\n",
    "Z-score 방식으로 이상치를 제거하고, 모든 연도에 공통으로 존재하는 학교만 필터링"
   ]
  },
  {
   "cell_type": "code",
   "execution_count": null,
   "id": "bff010f1",
   "metadata": {},
   "outputs": [],
   "source": [
    "import pandas as pd\n",
    "from scipy.stats import zscore\n",
    "\n",
    "# 파일 업로드\n",
    "from google.colab import files\n",
    "uploaded = files.upload()\n",
    "\n",
    "# 데이터 읽기\n",
    "file_name = list(uploaded.keys())[0]\n",
    "df = pd.read_csv(file_name)\n",
    "df.head()\n"
   ]
  },
  {
   "cell_type": "code",
   "execution_count": null,
   "id": "6522b0d4",
   "metadata": {},
   "outputs": [],
   "source": [
    "# 사용할 피처 목록 정의\n",
    "feature_cols = [\n",
    "    '중도탈락율', '기숙사 수용률', '전임교원 1인당 학생수(정원기준)', '전임교원 1인당 학생수(재학생기준)',\n",
    "    '졸업자 수', '진학률', '정원내 신입생 충원율(%)', '기숙사 경쟁률', '가중 평균 재학생 충원율(%)',\n",
    "    '총 강좌 수', '소규모 강좌 비율', '평균 강좌 규모 점수', '1인당장학금', '취업률'\n",
    "]\n",
    "\n",
    "# 결측치 제거\n",
    "df_valid = df.dropna(subset=feature_cols)\n",
    "print(\"결측치 제거 후 행 수:\", len(df_valid))\n"
   ]
  },
  {
   "cell_type": "code",
   "execution_count": null,
   "id": "5cd0c91b",
   "metadata": {},
   "outputs": [],
   "source": [
    "# Z-score 이상치 제거 함수\n",
    "def remove_outliers_zscore(df, columns, threshold=3.0):\n",
    "    df_z = df.copy()\n",
    "    z_scores = df_z[columns].apply(zscore)\n",
    "    mask = (z_scores.abs() < threshold).all(axis=1)\n",
    "    return df_z[mask]\n",
    "\n",
    "# 이상치 제거 실행\n",
    "df_cleaned = remove_outliers_zscore(df_valid, feature_cols, threshold=3.0)\n",
    "print(\"이상치 제거 후 행 수:\", len(df_cleaned))\n"
   ]
  },
  {
   "cell_type": "code",
   "execution_count": null,
   "id": "4bf76021",
   "metadata": {},
   "outputs": [],
   "source": [
    "# 모든 연도에 공통으로 존재하는 학교 추출\n",
    "schools_per_year = df_cleaned.groupby(\"기준년도\")[\"학교명\"].apply(set)\n",
    "common_schools = set.intersection(*schools_per_year)\n",
    "\n",
    "# 공통 학교만 필터링\n",
    "df_common = df_cleaned[df_cleaned[\"학교명\"].isin(common_schools)]\n",
    "print(\"공통 학교 수:\", len(common_schools))\n",
    "df_common.head()\n"
   ]
  },
  {
   "cell_type": "code",
   "execution_count": null,
   "id": "4034d017",
   "metadata": {},
   "outputs": [],
   "source": [
    "# 결과 저장 (UTF-8 with BOM 인코딩으로 Excel 호환)\n",
    "df_common.to_csv(\"Zscore_공통학교만_이상치제거_통합데이터_UTF8BOM.csv\", index=False, encoding=\"utf-8-sig\")\n",
    "files.download(\"Zscore_공통학교만_이상치제거_통합데이터_UTF8BOM.csv\")\n"
   ]
  }
 ],
 "metadata": {
  "language_info": {
   "name": "python"
  }
 },
 "nbformat": 4,
 "nbformat_minor": 5
}
