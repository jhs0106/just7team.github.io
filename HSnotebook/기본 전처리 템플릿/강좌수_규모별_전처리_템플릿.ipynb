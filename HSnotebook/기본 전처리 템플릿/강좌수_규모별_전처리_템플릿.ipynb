{
 "cells": [
  {
   "cell_type": "markdown",
   "id": "a8950c62",
   "metadata": {},
   "source": [
    "# 학생 규모별 강좌수 전처리 템플릿\n"
   ]
  },
  {
   "cell_type": "code",
   "execution_count": null,
   "id": "105be1db",
   "metadata": {},
   "outputs": [],
   "source": [
    "# 필요한 라이브러리 불러오기\n",
    "import pandas as pd\n",
    "\n",
    "# 파일 경로 예시\n",
    "file_path = '2023년 _대학_12-나-1. 학생 규모별 강좌수_학교별자료.xlsx'\n",
    "\n",
    "# 엑셀 파일 로드 (헤더 없음으로 가정)\n",
    "df_raw = pd.read_excel(file_path, header=None)\n",
    "df_raw.iloc[:10, :12]  # 앞부분 확인"
   ]
  },
  {
   "cell_type": "code",
   "execution_count": null,
   "id": "dc25e4b3",
   "metadata": {},
   "outputs": [],
   "source": [
    "# 5행부터 유의미한 데이터 시작, 필요한 열만 추출\n",
    "df = df_raw.iloc[5:, [0, 5, 6, 8, 9, 10, 11]].copy()\n",
    "df.columns = ['연도', '학교', '학기', '20명 이하', '21~30명', '31~40명', '41~50명']\n",
    "df[['연도', '학교']] = df[['연도', '학교']].ffill()"
   ]
  },
  {
   "cell_type": "code",
   "execution_count": null,
   "id": "21d6b95c",
   "metadata": {},
   "outputs": [],
   "source": [
    "# 수치형 변환 및 범주 병합\n",
    "cols_orig = ['20명 이하', '21~30명', '31~40명', '41~50명']\n",
    "df[cols_orig] = df[cols_orig].apply(pd.to_numeric, errors='coerce').fillna(0)\n",
    "\n",
    "df['20명 미만'] = df['20명 이하']\n",
    "df['21~50명 미만'] = df[['21~30명', '31~40명', '41~50명']].sum(axis=1)\n",
    "df['51~100명 미만'] = 0\n",
    "df['101~200명 미만'] = 0\n",
    "df['200명 이상'] = 0"
   ]
  },
  {
   "cell_type": "code",
   "execution_count": null,
   "id": "ba4e8c4e",
   "metadata": {},
   "outputs": [],
   "source": [
    "# 파생 피처 생성\n",
    "cols = ['20명 미만', '21~50명 미만', '51~100명 미만', '101~200명 미만', '200명 이상']\n",
    "df['총 강좌 수'] = df[cols].sum(axis=1)\n",
    "df['소규모 강좌 비율'] = df['20명 미만'] / df['총 강좌 수']\n",
    "df['대형 강좌 비율'] = df['200명 이상'] / df['총 강좌 수']\n",
    "\n",
    "weights = [10, 30, 75, 150, 250]\n",
    "df['평균 강좌 규모 점수'] = (\n",
    "    df[cols].mul(weights).sum(axis=1) / df['총 강좌 수']\n",
    ").round(1)"
   ]
  },
  {
   "cell_type": "code",
   "execution_count": null,
   "id": "03869874",
   "metadata": {},
   "outputs": [],
   "source": [
    "# 학교 + 연도 기준 요약\n",
    "df_summary = df.groupby(['연도', '학교']).agg({\n",
    "    '총 강좌 수': 'sum',\n",
    "    '소규모 강좌 비율': 'mean',\n",
    "    '대형 강좌 비율': 'mean',\n",
    "    '평균 강좌 규모 점수': 'mean'\n",
    "}).reset_index()\n",
    "df_summary.head()"
   ]
  }
 ],
 "metadata": {
  "kernelspec": {
   "display_name": "Python 3",
   "name": "python3"
  },
  "language_info": {
   "name": "python"
  }
 },
 "nbformat": 4,
 "nbformat_minor": 5
}
