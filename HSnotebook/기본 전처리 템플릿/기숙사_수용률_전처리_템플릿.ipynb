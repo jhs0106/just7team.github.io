{
 "cells": [
  {
   "cell_type": "markdown",
   "metadata": {},
   "source": [
    "# 기숙사 수용률 데이터 전처리 템플릿\n"
   ]
  },
  {
   "cell_type": "code",
   "execution_count": null,
   "metadata": {},
   "outputs": [],
   "source": [
    "# 기본 라이브러리 로드\n",
    "import pandas as pd\n",
    "import numpy as np\n",
    "import glob\n",
    "import os"
   ]
  },
  {
   "cell_type": "code",
   "execution_count": null,
   "metadata": {},
   "outputs": [],
   "source": [
    "# 연도별 파일 불러오기 (예시 경로는 사용자 환경에 맞게 수정하세요)\n",
    "files = sorted(glob.glob(\"./data/*기숙사*.xlsx\"))\n",
    "all_data = []\n",
    "\n",
    "for file in files:\n",
    "    year = int(os.path.basename(file)[:4])\n",
    "    df_temp = pd.read_excel(file, header=3)  # 필요시 header 조정\n",
    "    df = df_temp[['학교', '재학생수', '수용인원(명)']].copy()\n",
    "    df.dropna(subset=['학교', '재학생수', '수용인원(명)'], inplace=True)\n",
    "    df['재학생수'] = pd.to_numeric(df['재학생수'], errors='coerce')\n",
    "    df['수용인원(명)'] = pd.to_numeric(df['수용인원(명)'], errors='coerce')\n",
    "    df = df[df['재학생수'] > 0]\n",
    "    df['기숙사 수용률'] = (df['수용인원(명)'] / df['재학생수']) * 100\n",
    "    df['기숙사 수용률'] = df['기숙사 수용률'].round(1)\n",
    "    df['연도'] = year\n",
    "    all_data.append(df[['연도', '학교', '기숙사 수용률']])"
   ]
  },
  {
   "cell_type": "code",
   "execution_count": null,
   "metadata": {},
   "outputs": [],
   "source": [
    "# 통합 및 저장\n",
    "df_all = pd.concat(all_data, ignore_index=True)\n",
    "df_all.to_csv(\"기숙사_수용률_2010_2023_통합.csv\", index=False)\n",
    "df_all.head()"
   ]
  }
 ],
 "metadata": {
  "kernelspec": {
   "display_name": "Python 3",
   "language": "python",
   "name": "python3"
  },
  "language_info": {
   "name": "python",
   "version": "3.11"
  }
 },
 "nbformat": 4,
 "nbformat_minor": 2
}
