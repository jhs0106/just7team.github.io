{
 "cells": [
  {
   "cell_type": "code",
   "execution_count": null,
   "metadata": {},
   "outputs": [],
   "source": [
    "# 자퇴율 예측 산점도 예시\n",
    "import pandas as pd\n",
    "import matplotlib.pyplot as plt\n",
    "\n",
    "df = pd.read_csv(\"data/sample_dropout.csv\")  # 가상의 데이터\n",
    "plt.scatter(df['취업률'], df['자퇴율'])\n",
    "plt.title(\"취업률 vs 자퇴율\")\n",
    "plt.xlabel(\"취업률\")\n",
    "plt.ylabel(\"자퇴율\")\n",
    "plt.savefig(\"results/prediction_vs_actual.png\")\n"
   ]
  }
 ],
 "metadata": {
  "language_info": {
   "name": "python"
  }
 },
 "nbformat": 4,
 "nbformat_minor": 2
}
