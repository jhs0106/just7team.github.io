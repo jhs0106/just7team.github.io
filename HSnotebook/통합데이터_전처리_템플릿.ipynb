{
 "cells": [
  {
   "cell_type": "markdown",
   "metadata": {},
   "source": [
    "# 📊 대학별 연도별 통합 데이터 전처리 템플릿\n",
    "2010~2023년 대학별 공시 데이터를 기준으로 연도별 + 학교명 유사도 기반 병합, 피처 통합, 결측치 처리 등"
   ]
  },
  {
   "cell_type": "code",
   "execution_count": null,
   "metadata": {},
   "outputs": [],
   "source": [
    "import pandas as pd\n",
    "from difflib import get_close_matches\n",
    "from functools import reduce"
   ]
  },
  {
   "cell_type": "markdown",
   "metadata": {},
   "source": [
    "## 🔹 기준 파일: 중도탈락율 불러오기 및 기준 학교명 정의"
   ]
  },
  {
   "cell_type": "code",
   "execution_count": null,
   "metadata": {},
   "outputs": [],
   "source": [
    "# 기준 데이터 로딩\n",
    "base_df = pd.read_csv(\"중도탈락율_통합_2010_2023.csv\", encoding=\"utf-8-sig\")\n",
    "base_df.rename(columns={base_df.columns[0]: \"기준년도\", base_df.columns[1]: \"학교명\"}, inplace=True)\n",
    "base_df = base_df[(base_df[\"기준년도\"] >= 2010) & (base_df[\"기준년도\"] <= 2023)].copy()\n",
    "base_df[\"학교명_정규\"] = base_df[\"학교명\"]"
   ]
  },
  {
   "cell_type": "markdown",
   "metadata": {},
   "source": [
    "## 🔹 연도별 유사도 기반 학교명 매핑 함수 정의"
   ]
  },
  {
   "cell_type": "code",
   "execution_count": null,
   "metadata": {},
   "outputs": [],
   "source": [
    "standard_schools_by_year = base_df.groupby(\"기준년도\")[\"학교명\"].unique().to_dict()\n",
    "def match_school(row, 기준년도, 기준학교명리스트):\n",
    "    name = row[\"학교명\"]\n",
    "    if pd.isna(name) or 기준년도 not in 기준학교명리스트:\n",
    "        return None\n",
    "    candidates = 기준학교명리스트[기준년도]\n",
    "    match = get_close_matches(name, candidates, n=1, cutoff=0.85)\n",
    "    return match[0] if match else None"
   ]
  },
  {
   "cell_type": "markdown",
   "metadata": {},
   "source": [
    "## 🔹 피처 파일 불러오기 및 병합"
   ]
  },
  {
   "cell_type": "code",
   "execution_count": null,
   "metadata": {},
   "outputs": [],
   "source": [
    "feature_files = {\n",
    "    \"기숙사수용률\": \"기숙사_수용률_2010_2023_통합_UTF8.csv\",\n",
    "    \"전임교원_1인당학생수\": \"전임교원_1인당학생수_2010_2023_통합.csv\",\n",
    "    \"진학률_졸업자수\": \"졸업자수_진학률_2010_2023_유사통합_누락제거_utf8sig.csv\",\n",
    "    \"신입생충원률_경쟁률\": \"통합_신입생_충원률_및_경쟁률_2010_2023_정제본_CP949.csv\",\n",
    "    \"재학생충원율\": \"통합_재학생_충원율_2010_2023_CP949.csv\",\n",
    "    \"강좌수\": \"학생규모별_강좌수_통합_2010_2023.csv\"\n",
    "}\n",
    "merged_df = base_df[[\"기준년도\", \"학교명\", \"학교명_정규\", \"중도탈락율\"]].copy()\n",
    "for name, path in feature_files.items():\n",
    "    df = pd.read_csv(path, encoding=\"utf-8-sig\" if 'utf8' in path.lower() else \"cp949\")\n",
    "    df.rename(columns={df.columns[0]: \"기준년도\", df.columns[1]: \"학교명\"}, inplace=True)\n",
    "    df = df[(df[\"기준년도\"] >= 2010) & (df[\"기준년도\"] <= 2023)]\n",
    "    df[\"학교명_정규\"] = df.apply(lambda row: match_school(row, row[\"기준년도\"], standard_schools_by_year), axis=1)\n",
    "    df.dropna(subset=[\"학교명_정규\"], inplace=True)\n",
    "    df.drop(columns=[\"학교명\"], inplace=True)\n",
    "    merged_df = pd.merge(merged_df, df, how=\"outer\", on=[\"기준년도\", \"학교명_정규\"])"
   ]
  },
  {
   "cell_type": "markdown",
   "metadata": {},
   "source": [
    "## 🔹 병합 후 학교명 복원 및 정리"
   ]
  },
  {
   "cell_type": "code",
   "execution_count": null,
   "metadata": {},
   "outputs": [],
   "source": [
    "school_name_map = base_df[[\"기준년도\", \"학교명_정규\", \"학교명\"]].drop_duplicates()\n",
    "merged_df = pd.merge(merged_df, school_name_map, how=\"left\", on=[\"기준년도\", \"학교명_정규\"])\n",
    "merged_df.drop(columns=[\"학교명_x\", \"학교명_정규\"], errors='ignore', inplace=True)\n",
    "merged_df.rename(columns={\"학교명_y\": \"학교명\"}, inplace=True)\n",
    "merged_df.sort_values(by=[\"기준년도\", \"학교명\"], inplace=True)"
   ]
  },
  {
   "cell_type": "markdown",
   "metadata": {},
   "source": [
    "모든 연도에 존재하는 학교만 유지"
   ]
  },
  {
   "cell_type": "code",
   "execution_count": null,
   "metadata": {},
   "outputs": [],
   "source": [
    "# import pandas as pd\n",
    "\n",
    "# # 데이터 불러오기\n",
    "# df = pd.read_csv(\"통합데이터_수정본2.csv\")\n",
    "\n",
    "# # 2010~2023 모든 연도에 존재하는 학교명 찾기\n",
    "# school_year_matrix = df.pivot_table(index=\"학교명\", columns=\"기준년도\", values=\"중도탈락율\", aggfunc=\"count\")\n",
    "# all_years = list(range(2010, 2024))\n",
    "# schools_all_years = school_year_matrix.dropna(subset=all_years)\n",
    "\n",
    "# # 해당 학교명만 필터링\n",
    "# filtered_df = df[df[\"학교명\"].isin(schools_all_years.index)]\n",
    "\n",
    "# # 기준년도 + 학교명 기준으로 중복 제거\n",
    "# deduped_df = filtered_df.drop_duplicates(subset=[\"기준년도\", \"학교명\"], keep=\"first\")\n",
    "\n",
    "# # 결과 저장\n",
    "# deduped_df.to_csv(\"중복제거_모든연도학교204개_UTF8BOM.csv\", index=False, encoding=\"utf-8-sig\")\n",
    "# print(\"저장 완료: 중복제거_모든연도학교204개_UTF8BOM.csv\")"
   ]
  }
 ],
 "metadata": {
  "kernelspec": {
   "display_name": "Python 3",
   "language": "python",
   "name": "python3"
  },
  "language_info": {
   "name": "python",
   "version": "3.8"
  }
 },
 "nbformat": 4,
 "nbformat_minor": 2
}
