{
 "cells": [
  {
   "cell_type": "markdown",
   "id": "fc3d94a3",
   "metadata": {},
   "source": [
    "# 2010~2023 재학생 충원율 데이터 전처리 템플릿\n",
    "\n",
    "기준: 2023년에 존재하는 학교 + 사이버대학 제외"
   ]
  },
  {
   "cell_type": "code",
   "execution_count": null,
   "id": "3810df6f",
   "metadata": {},
   "outputs": [],
   "source": [
    "import pandas as pd\n",
    "from glob import glob\n",
    "import os"
   ]
  },
  {
   "cell_type": "code",
   "execution_count": null,
   "id": "79f083bc",
   "metadata": {},
   "outputs": [],
   "source": [
    "# 2023년 파일에서 유효한 학교명 기준 확보 (예시)\n",
    "df_2023 = pd.read_excel(\"2023년 _대학_4-라-1. 재학생 충원율_학교별자료.xlsx\", header=None)\n",
    "valid_schools = df_2023[5].dropna().unique().tolist()\n",
    "valid_schools = [s for s in valid_schools if \"사이버\" not in s]"
   ]
  },
  {
   "cell_type": "code",
   "execution_count": null,
   "id": "01c4d321",
   "metadata": {},
   "outputs": [],
   "source": [
    "def process_yearly_file(file_path, year, school_col=5, quota_col=6, rate_col=12):\n",
    "    df_raw = pd.read_excel(file_path, header=None)\n",
    "    df_filtered = df_raw[[school_col, quota_col, rate_col]].copy()\n",
    "    df_filtered.columns = ['학교', '편제 정원', '재학생 충원율(%)']\n",
    "\n",
    "    # 정제\n",
    "    df_filtered['편제 정원'] = pd.to_numeric(df_filtered['편제 정원'], errors='coerce')\n",
    "    df_filtered['재학생 충원율(%)'] = pd.to_numeric(df_filtered['재학생 충원율(%)'], errors='coerce')\n",
    "    df_filtered = df_filtered.dropna()\n",
    "    df_filtered = df_filtered[df_filtered['학교'].isin(valid_schools)]\n",
    "    df_filtered = df_filtered[~df_filtered['학교'].str.contains('사이버')]\n",
    "\n",
    "    # 그룹별 가중 평균\n",
    "    result = df_filtered.groupby('학교').apply(\n",
    "        lambda g: pd.Series({\n",
    "            '총 편제 정원': g['편제 정원'].sum(),\n",
    "            '가중 평균 재학생 충원율(%)': (g['편제 정원'] * g['재학생 충원율(%)']).sum() / g['편제 정원'].sum()\n",
    "        })\n",
    "    ).reset_index()\n",
    "    result['기준년도'] = year\n",
    "    return result"
   ]
  },
  {
   "cell_type": "code",
   "execution_count": null,
   "id": "f7c0adbe",
   "metadata": {},
   "outputs": [],
   "source": [
    "# 연도별 파일 처리\n",
    "files = sorted(glob(\"????년 _대학_4-라-1. 재학생 충원율_학교별자료.xlsx\"))\n",
    "all_data = []\n",
    "\n",
    "for file in files:\n",
    "    year = int(os.path.basename(file)[:4])\n",
    "    df = process_yearly_file(file, year)\n",
    "    all_data.append(df)\n",
    "\n",
    "# 통합\n",
    "merged_df = pd.concat(all_data, ignore_index=True)\n",
    "merged_df = merged_df[['기준년도', '학교', '총 편제 정원', '가중 평균 재학생 충원율(%)']]\n",
    "\n",
    "# 저장\n",
    "merged_df.to_csv(\"통합_재학생_충원율_2010_2023_CP949.csv\", index=False, encoding=\"cp949\")\n",
    "merged_df.head()"
   ]
  }
 ],
 "metadata": {
  "language_info": {
   "name": "python"
  }
 },
 "nbformat": 4,
 "nbformat_minor": 5
}
