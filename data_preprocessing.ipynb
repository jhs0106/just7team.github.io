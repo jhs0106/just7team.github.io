{
  "nbformat": 4,
  "nbformat_minor": 0,
  "metadata": {
    "colab": {
      "provenance": []
    },
    "kernelspec": {
      "name": "python3",
      "display_name": "Python 3"
    },
    "language_info": {
      "name": "python"
    }
  },
  "cells": [
    {
      "cell_type": "code",
      "execution_count": null,
      "metadata": {
        "id": "m1iwVmfcHZRi",
        "collapsed": true
      },
      "outputs": [],
      "source": [
        "import pandas as pd\n",
        "\n",
        "dropout_raw = pd.read_csv(\"dropout_2021.csv\")\n",
        "\n",
        "\n",
        "#컬럼 명\n",
        "columns_row = dropout_raw.iloc[2]\n",
        "\n",
        "#사용할 컬럼명 리스트\n",
        "columns_list = [\n",
        "    '기준연도', '학교종류', '설립구분', '지역', '상태',\n",
        "    '학교', '단과대학', '학과 (전공)', '학과특성', '학과상태', '재적학생 (A)',\n",
        "    '사유별 중도탈락 학생', '중도탈락학생비율(%) (B/A) × 100'\n",
        "]\n",
        "\n",
        "#컬럼 행넘김, 결측치 제거\n",
        "columns_row = columns_row.fillna('').astype(str).str.replace('\\n', ' ')\n",
        "\n",
        "#컬럼명 설정\n",
        "df_data = dropout_raw.iloc[4:]\n",
        "df_data.columns = columns_row\n",
        "\n",
        "#사용한 컬럼\n",
        "df_filtered = df_data[columns_list]\n",
        "\n",
        "#결측치 제거\n",
        "dropout_2021 = df_filtered.dropna()\n",
        "\n",
        "dropout_2021.rename(columns={\n",
        "    '학과 (전공)': '학과',\n",
        "    '재적학생 (A)' : '재적학생',\n",
        "    '사유별 중도탈락 학생' : '중도탈락학생',\n",
        "    '중도탈락학생비율(%) (B/A) × 100' : '중도탈락학생비율'\n",
        "}, inplace=True)"
      ]
    }
  ]
}